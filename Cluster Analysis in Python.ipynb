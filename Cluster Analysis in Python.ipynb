{
 "cells": [
  {
   "cell_type": "markdown",
   "metadata": {},
   "source": [
    "### Hierachical clustering in SciPy"
   ]
  },
  {
   "cell_type": "code",
   "execution_count": null,
   "metadata": {},
   "outputs": [],
   "source": [
    "from scipy.cluster.hierarchy import linkage, fcluster\n",
    "from matplotlib import pyplot as plt\n",
    "import seaborn as sns, pandas as pd\n",
    "\n",
    "x_coordinates = [80.1, 93.1, 86.6, 98.5, 86.4, 9.5, 15.2, 3.4,\n",
    "10.4, 20.3, 44.2, 56.8, 49.2, 62.5, 44.0]\n",
    "y_coordinates = [87.2, 96.1, 95.6, 92.4, 92.4, 57.7, 49.4,\n",
    "47.3, 59.1, 55.5, 25.6, 2.1, 10.9, 24.1, 10.3]\n",
    "\n",
    "df = pd.DataFrame({'x_coordinate': x_coordinates,\n",
    "'y_coordinate': y_coordinates})\n",
    "\n",
    "Z = linkage(df, 'ward')\n",
    "df['cluster_labels'] = fcluster(Z, 3, criterion='maxclust')\n",
    "\n",
    "sns.scatterplot(x='x_coordinate', y='y_coordinate',\n",
    "hue='cluster_labels', data = df)\n",
    "plt.show()"
   ]
  },
  {
   "cell_type": "markdown",
   "metadata": {},
   "source": [
    "### K-means clustering in SciPy"
   ]
  },
  {
   "cell_type": "code",
   "execution_count": null,
   "metadata": {},
   "outputs": [],
   "source": [
    "from scipy.cluster.vq import kmeans, vq\n",
    "from matplotlib import pyplot as plt\n",
    "import seaborn as sns, pandas as pd\n",
    "import random\n",
    "random.seed((1000,2000))\n",
    "\n",
    "x_coordinates = [80.1, 93.1, 86.6, 98.5, 86.4, 9.5, 15.2, 3.4,\n",
    "10.4, 20.3, 44.2, 56.8, 49.2, 62.5, 44.0]\n",
    "y_coordinates = [87.2, 96.1, 95.6, 92.4, 92.4, 57.7, 49.4,\n",
    "47.3, 59.1, 55.5, 25.6, 2.1, 10.9, 24.1, 10.3]\n",
    "df = pd.DataFrame({'x_coordinate': x_coordinates, 'y_coordinate': y_coordinates})\n",
    "\n",
    "centroids,_ = kmeans(df, 3)\n",
    "df['cluster_labels'], _ = vq(df, centroids)\n",
    "\n",
    "sns.scatterplot(x='x_coordinate', y='y_coordinate',\n",
    "hue='cluster_labels', data = df)\n",
    "plt.show()"
   ]
  },
  {
   "cell_type": "markdown",
   "metadata": {},
   "source": [
    "### Normalization of data before clustering"
   ]
  },
  {
   "cell_type": "code",
   "execution_count": null,
   "metadata": {},
   "outputs": [],
   "source": [
    "from scipy.cluster.vq import whiten\n",
    "data = [5, 1, 3, 3, 2, 3, 3, 8, 1, 2, 2, 3, 5]\n",
    "scaled_data = whiten(data)"
   ]
  },
  {
   "cell_type": "markdown",
   "metadata": {},
   "source": [
    "## Hierarchical Clustering\n",
    "### Linkage Function\n",
    "- 'single' : based on two closest objects\n",
    "- 'complete' : based on two farthest objects\n",
    "- 'average' : based on the arithmetic mean of all objects\n",
    "- 'centroid' : based on the geometric mean of all objects\n",
    "- 'median' : based on the median of all objects\n",
    "- 'ward' : based on the sum of squares"
   ]
  },
  {
   "cell_type": "code",
   "execution_count": null,
   "metadata": {},
   "outputs": [],
   "source": [
    "scipy.cluster.hierarchy.linkage(observations,\n",
    "                                method='single',\n",
    "                                metric='euclidean',\n",
    "                                optimal_ordering=False\n",
    ")"
   ]
  },
  {
   "cell_type": "markdown",
   "metadata": {},
   "source": [
    "#### Create cluster labels with fcluster"
   ]
  },
  {
   "cell_type": "code",
   "execution_count": null,
   "metadata": {},
   "outputs": [],
   "source": [
    "scipy.cluster.hierarchy.fcluster(distance_matrix, num_clusters, criterion)"
   ]
  },
  {
   "cell_type": "markdown",
   "metadata": {},
   "source": [
    "### Visualize clusters\n",
    "    - with matplotlib"
   ]
  },
  {
   "cell_type": "code",
   "execution_count": null,
   "metadata": {},
   "outputs": [],
   "source": [
    "from matplotlib import pyplot as plt\n",
    "df = pd.DataFrame({'x': [2, 3, 5, 6, 2],\n",
    "                   'y': [1, 1, 5, 5, 2],\n",
    "                   'labels': ['A', 'A', 'B', 'B', 'A']})\n",
    "colors = {'A':'red', 'B':'blue'}\n",
    "df.plot.scatter(x='x', y='y', c=df['labels'].apply(lambda x: colors[x]))\n",
    "plt.show()"
   ]
  },
  {
   "cell_type": "markdown",
   "metadata": {},
   "source": [
    "    - with seaborn"
   ]
  },
  {
   "cell_type": "code",
   "execution_count": null,
   "metadata": {},
   "outputs": [],
   "source": [
    "from matplotlib import pyplot as plt\n",
    "import seaborn as sns\n",
    "\n",
    "df = pd.DataFrame({'x': [2, 3, 5, 6, 2],\n",
    "                   'y': [1, 1, 5, 5, 2],\n",
    "                   'labels': ['A', 'A', 'B', 'B', 'A']})\n",
    "sns.scatterplot(x='x', y='y', hue='labels', data=df)\n",
    "plt.show()"
   ]
  },
  {
   "cell_type": "markdown",
   "metadata": {},
   "source": [
    "### Dendrogram in SciPy"
   ]
  },
  {
   "cell_type": "code",
   "execution_count": null,
   "metadata": {},
   "outputs": [],
   "source": [
    "from scipy.cluster.hierarchy import dendrogram\n",
    "Z = linkage(df[['x_whiten', 'y_whiten']],\n",
    "            method='ward',\n",
    "            metric='euclidean')\n",
    "dn = dendrogram(Z)\n",
    "plt.show()"
   ]
  },
  {
   "cell_type": "markdown",
   "metadata": {},
   "source": [
    "## K-Means Clustering\n",
    "    - Step 1: Generate cluster centers\n",
    "        - kmeans(obs, k_or_guess, iter, thresh, check_finite)\n",
    "        - obs : standardized observations\n",
    "        - k_or_guess : number of clusters\n",
    "        - iter : number of iterations (default: 20)\n",
    "        - thres : threshold (default: 1e-05)\n",
    "        - check_finite : whether to check if observations contain only \n",
    "    - Step 2: Generate cluster labels\n",
    "        - vq(obs, code_book, check_finite=True)\n",
    "        - obs : standardized observations\n",
    "        - code_book : cluster centers\n",
    "        - check_finite : whether to check if observations contain only "
   ]
  },
  {
   "cell_type": "code",
   "execution_count": null,
   "metadata": {},
   "outputs": [],
   "source": [
    "# Import kmeans and vq functions\n",
    "from scipy.cluster.vq import kmeans, vq\n",
    "\n",
    "# Generate cluster centers and labels\n",
    "cluster_centers, _ = kmeans(df[['scaled_x', 'scaled_y']], 3)\n",
    "df['cluster_labels'], _ = vq(df[['scaled_x', 'scaled_y']], cluster_centers)\n",
    "\n",
    "# Plot clusters\n",
    "sns.scatterplot(x='scaled_x', y='scaled_y', hue='cluster_labels', data=df)\n",
    "plt.show()"
   ]
  },
  {
   "cell_type": "markdown",
   "metadata": {},
   "source": [
    "### Elbow plot"
   ]
  },
  {
   "cell_type": "code",
   "execution_count": null,
   "metadata": {},
   "outputs": [],
   "source": [
    "# Declaring variables for use\n",
    "distortions = []\n",
    "num_clusters = range(2, 7)\n",
    "\n",
    "# Populating distortions for various clusters\n",
    "for i in num_clusters:\n",
    "centroids, distortion = kmeans(df[['scaled_x', 'scaled_y']], i)\n",
    "distortions.append(distortion)\n",
    "\n",
    "# Plotting elbow plot data\n",
    "elbow_plot_data = pd.DataFrame({'num_clusters': num_clusters, 'distortions': distortions})\n",
    "sns.lineplot(x='num_clusters', y='distortions', data = elbow_plot_data)\n",
    "plt.show()"
   ]
  },
  {
   "cell_type": "markdown",
   "metadata": {},
   "source": [
    "## Example 1: find dominant colors\n",
    "- Convert image to pixels: matplotlib.image.imread\n",
    "- Display colors of cluster centers: matplotlib.pyplot.imshow\n",
    "\n",
    "#### 1. Covert image to RGB matrix"
   ]
  },
  {
   "cell_type": "code",
   "execution_count": null,
   "metadata": {},
   "outputs": [],
   "source": [
    "import matplotlib.image as img\n",
    "image = img.imread('sea.jpg')\n",
    "image.shape   # (475, 764, 3)\n",
    "\n",
    "r = []\n",
    "g = []\n",
    "b = []\n",
    "\n",
    "for row in image:\n",
    "    for pixel in row:\n",
    "# A pixel contains RGB values\n",
    "    temp_r, temp_g, temp_b = pixel\n",
    "    r.append(temp_r)\n",
    "    g.append(temp_g)\n",
    "    b.append(temp_b)"
   ]
  },
  {
   "cell_type": "markdown",
   "metadata": {},
   "source": [
    "#### 2. DataFrame with RGB values"
   ]
  },
  {
   "cell_type": "code",
   "execution_count": null,
   "metadata": {},
   "outputs": [],
   "source": [
    "pixels = pd.DataFrame({'red': r, 'blue': b, 'green': g})\n",
    "pixels.head()\n",
    "\n",
    "##############\n",
    "red blue green\n",
    "252 255 252\n",
    "75 103 81"
   ]
  },
  {
   "cell_type": "markdown",
   "metadata": {},
   "source": [
    "#### 3. Create an elbow plot"
   ]
  },
  {
   "cell_type": "code",
   "execution_count": null,
   "metadata": {},
   "outputs": [],
   "source": [
    "distortions = []\n",
    "num_clusters = range(1, 11)\n",
    "\n",
    "# Create a list of distortions from the kmeans method\n",
    "for i in num_clusters:\n",
    "    cluster_centers, _ = kmeans(pixels[['scaled_red', 'scaled_blue','scaled_green']], i)\n",
    "    distortions.append(distortion)\n",
    "    \n",
    "# Create a DataFrame with two lists - number of clusters and distortions\n",
    "elbow_plot = pd.DataFrame({'num_clusters': num_clusters, 'distortions': distortions})\n",
    "\n",
    "# Creat a line plot of num_clusters and distortions\n",
    "sns.lineplot(x='num_clusters', y='distortions', data = elbow_plot)\n",
    "plt.xticks(num_clusters)\n",
    "plt.show()"
   ]
  },
  {
   "cell_type": "markdown",
   "metadata": {},
   "source": [
    "#### 4. Find dominant colors"
   ]
  },
  {
   "cell_type": "code",
   "execution_count": null,
   "metadata": {},
   "outputs": [],
   "source": [
    "cluster_centers, _ = kmeans(pixels[['scaled_red', 'scaled_blue', 'scaled_green']], 2)\n",
    "\n",
    "colors = []\n",
    "\n",
    "# Find Standard Deviations\n",
    "r_std, g_std, b_std = pixels[['red', 'blue', 'green']].std()\n",
    "\n",
    "# Scale actual RGB values in range of 0-1\n",
    "for cluster_center in cluster_centers:\n",
    "    scaled_r, scaled_g, scaled_b = cluster_center\n",
    "    colors.append((\n",
    "        scaled_r * r_std/255,\n",
    "        scaled_g * g_std/255,\n",
    "        scaled_b * b_std/255\n",
    "    ))"
   ]
  },
  {
   "cell_type": "markdown",
   "metadata": {},
   "source": [
    "#### 5. Display dominant colors"
   ]
  },
  {
   "cell_type": "code",
   "execution_count": null,
   "metadata": {},
   "outputs": [],
   "source": [
    "#Dimensions: 2 x 3 (N X 3 matrix)\n",
    "print(colors)\n",
    "\n",
    "#[(0.08192923122023911, 0.34205845943857993, 0.2824002984155429),\n",
    "#(0.893281510956742, 0.899818770315129, 0.8979114272960784)]\n",
    "\n",
    "#Dimensions: 1 x 2 x 3 (1 X N x 3 matrix)\n",
    "plt.imshow([colors])\n",
    "plt.show()"
   ]
  },
  {
   "cell_type": "markdown",
   "metadata": {},
   "source": [
    "### Example 2: Document clustering\n",
    "1. Clean data before processing\n",
    "2. Determine the importance of the terms in a document (in TF-IDF matrix)\n",
    "3. Cluster the TF-IDF matrix\n",
    "4. Find top terms, documents in each cluster"
   ]
  },
  {
   "cell_type": "markdown",
   "metadata": {},
   "source": [
    "#### 1. Clean and tokenize data"
   ]
  },
  {
   "cell_type": "code",
   "execution_count": null,
   "metadata": {},
   "outputs": [],
   "source": [
    "from nltk.tokenize import word_tokenize\n",
    "import re\n",
    "\n",
    "def remove_noise(text, stop_words = []):\n",
    "    tokens = word_tokenize(text)\n",
    "    cleaned_tokens = []\n",
    "    for token in tokens:\n",
    "        token = re.sub('[^A-Za-z0-9]+', '', token)\n",
    "        if len(token) > 1 and token.lower() not in stop_words:\n",
    "            # Get lowercase\n",
    "            cleaned_tokens.append(token.lower())\n",
    "    return cleaned_tokens\n",
    "\n",
    "remove_noise(\"It is lovely weather we are having.I hope the weather continues.\")\n",
    "\n",
    "# ['lovely', 'weather', 'hope', 'weather', 'continues']"
   ]
  },
  {
   "cell_type": "markdown",
   "metadata": {},
   "source": [
    "#### 2. TF-IDF (Term Frequency - Inverse Document Frequency)"
   ]
  },
  {
   "cell_type": "code",
   "execution_count": null,
   "metadata": {},
   "outputs": [],
   "source": [
    "from sklearn.feature_extraction.text import TfidfVectorizer\n",
    "tfidf_vectorizer = TfidfVectorizer(max_df=0.8, max_features=50, min_df=0.2, tokenizer=remove_noise)\n",
    "tfidf_matrix = tfidf_vectorizer.fit_transform(data)"
   ]
  },
  {
   "cell_type": "markdown",
   "metadata": {},
   "source": [
    "#### 3. Clustering with sparse matrix"
   ]
  },
  {
   "cell_type": "code",
   "execution_count": null,
   "metadata": {},
   "outputs": [],
   "source": [
    "cluster_centers, distortion = kmeans(tfidf_matrix.todense(), num_clusters)\n",
    "# kmeans() in SciPy does not support sparse matrices, Use .todense() to convert to a matrix"
   ]
  },
  {
   "cell_type": "markdown",
   "metadata": {},
   "source": [
    "#### 4. Top terms per cluster\n",
    "- Cluster centers: lists with a size equal to the number of terms\n",
    "- Each value in the cluster center is its importance\n",
    "- Create a dictionary and print top terms"
   ]
  },
  {
   "cell_type": "code",
   "execution_count": null,
   "metadata": {},
   "outputs": [],
   "source": [
    "terms = tfidf_vectorizer.get_feature_names_out()\n",
    "\n",
    "for i in range(num_clusters):\n",
    "    center_terms = dict(zip(terms, list(cluster_centers[i])))\n",
    "    sorted_terms = sorted(center_terms, key=center_terms.get, reverse=True)\n",
    "    print(sorted_terms[:3])\n",
    "    \n",
    "#['room', 'hotel', 'staff']\n",
    "#['bad', 'location', 'breakfast']"
   ]
  },
  {
   "cell_type": "code",
   "execution_count": null,
   "metadata": {},
   "outputs": [],
   "source": []
  }
 ],
 "metadata": {
  "kernelspec": {
   "display_name": "Python 3",
   "language": "python",
   "name": "python3"
  },
  "language_info": {
   "codemirror_mode": {
    "name": "ipython",
    "version": 3
   },
   "file_extension": ".py",
   "mimetype": "text/x-python",
   "name": "python",
   "nbconvert_exporter": "python",
   "pygments_lexer": "ipython3",
   "version": "3.7.3"
  }
 },
 "nbformat": 4,
 "nbformat_minor": 2
}
